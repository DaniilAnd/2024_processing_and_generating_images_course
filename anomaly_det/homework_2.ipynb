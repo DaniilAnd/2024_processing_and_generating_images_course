{
 "cells": [
  {
   "cell_type": "code",
   "execution_count": 25,
   "metadata": {},
   "outputs": [],
   "source": [
    "import torch\n",
    "import numpy as np\n",
    "from torchvision import transforms\n",
    "import matplotlib.pyplot as plt\n",
    "from tqdm import tqdm\n",
    "from torch import nn\n",
    "from IPython.display import Image\n",
    "\n",
    "import glob\n",
    "import random\n",
    "import os\n",
    "import uuid\n",
    "\n"
   ]
  },
  {
   "cell_type": "markdown",
   "metadata": {},
   "source": [
    "# Постановка задачи\n",
    "\n",
    "Имеются изображения технологического процесса разлива металлических циллиндров. Есть риск нарушения технологии, когда стенки цилиндра не успевают застывать и трескаются. Не застывшый металл выливается, не образуя требуюмую заготовку. Необходимо оперативно определить лунку где произошел пролив. При этом пролив дольно редкое явление. Гораздо больше изображений можно собрать без пролива в лунке.\n",
    "\n",
    "Задача: построить модель (на основе автоэнкодера) определяющую состояние лунки пролив\\не пролив.\n",
    "\n",
    "![title](.\\imgs\\CAM_C_02-03-2023_01-41-38-850.jpg)\n",
    "\n"
   ]
  },
  {
   "cell_type": "markdown",
   "metadata": {},
   "source": [
    "\n",
    "\n"
   ]
  },
  {
   "cell_type": "markdown",
   "metadata": {},
   "source": [
    "## Датесет\n",
    "\n",
    "Данные - вырезанные изображения лунок.\n",
    "[Ссыла на даасет](https://drive.google.com/file/d/1DHuQ3DBsgab6NtZIZfAKUHS2rW3-vmtb/view?usp=sharing)\n",
    "\n",
    "```\n",
    "dataset\n",
    "├── proliv  # изображения с проливами\n",
    "|       ├── 000.jpg\n",
    "│       ├── 001.jpg\n",
    "│       │   └── ...\n",
    "|\n",
    "├── test  # тестовая выборка где перемешаны проливы и не_проливы\n",
    "│       ├── imgs\n",
    "│       │   ├── 000.jpg\n",
    "│       │   ├── 001.jpg\n",
    "│       │   └── ...\n",
    "│       └── test_annotation.txt\n",
    "|\n",
    "├── train  #  обучающая выборка из не_проливов\n",
    "|       ├── 000.jpg\n",
    "│       ├── 001.jpg\n",
    "│       └── ...\n",
    "```\n",
    "\n",
    "## План рещения\n",
    "\n",
    "1. Имплементировать или найти автоэкодер (можно для старта взять пример из лекции по автоэнкодерам)\n",
    "2. Обучаем автоэнкодер на не_проливах (dataset\\train)\n",
    "3. Если через такой автоэнкодер прогнать изображение пролива, то MSE между входным изображением и выходным будет больше, чем если прогнать изображение без пролива. Следовательно, если определить некторое пороговое значение MSE, можно классифицировать изображение на классы пролив\\не_пролив. Если MSE между входной картинкой и выходной больше фиксированного порога, то на изображении пролив.\n",
    "4. В качестве loss функции используем MSE (как минимум для baseline)\n",
    "5. Для определения порога используем изображения из dataset\\proliv\n",
    "6. Пишем метод классификации лунок\n",
    "7. На изображениях из dataset\\test тестируем качество. Считаем True_positive_rate и True_negative_rate.\n",
    "8. Цель: получить на тесте максимизаровать метрики True_positive_rate и True_negative_rate (получить более 91% по каждой)"
   ]
  },
  {
   "cell_type": "markdown",
   "metadata": {},
   "source": []
  },
  {
   "cell_type": "code",
   "execution_count": 20,
   "metadata": {},
   "outputs": [],
   "source": []
  },
  {
   "cell_type": "code",
   "execution_count": 22,
   "metadata": {},
   "outputs": [],
   "source": []
  },
  {
   "cell_type": "code",
   "execution_count": 26,
   "metadata": {},
   "outputs": [],
   "source": []
  },
  {
   "cell_type": "code",
   "execution_count": 29,
   "metadata": {},
   "outputs": [],
   "source": [
    "\n"
   ]
  },
  {
   "cell_type": "code",
   "execution_count": 30,
   "metadata": {},
   "outputs": [],
   "source": []
  },
  {
   "cell_type": "code",
   "execution_count": null,
   "metadata": {},
   "outputs": [],
   "source": []
  }
 ],
 "metadata": {
  "kernelspec": {
   "display_name": "base",
   "language": "python",
   "name": "python3"
  },
  "language_info": {
   "codemirror_mode": {
    "name": "ipython",
    "version": 3
   },
   "file_extension": ".py",
   "mimetype": "text/x-python",
   "name": "python",
   "nbconvert_exporter": "python",
   "pygments_lexer": "ipython3",
   "version": "3.8.8"
  }
 },
 "nbformat": 4,
 "nbformat_minor": 2
}
